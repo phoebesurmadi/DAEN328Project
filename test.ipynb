{
 "cells": [
  {
   "cell_type": "code",
   "execution_count": 26,
   "metadata": {},
   "outputs": [],
   "source": [
    "import pandas as pd\n",
    "import requests\n",
    "\n",
    "# fetch data from the API endpoint with a limit of 1000 rows\n",
    "url = \"https://data.cityofchicago.org/resource/4ijn-s7e5.csv?$limit=1000&$offset=0\"\n",
    "response = requests.get(url)\n",
    "\n",
    "# load data into a pandas DataFrame from the response content\n",
    "data = pd.read_csv(url)\n"
   ]
  },
  {
   "cell_type": "code",
   "execution_count": 27,
   "metadata": {},
   "outputs": [
    {
     "data": {
      "text/html": [
       "<div>\n",
       "<style scoped>\n",
       "    .dataframe tbody tr th:only-of-type {\n",
       "        vertical-align: middle;\n",
       "    }\n",
       "\n",
       "    .dataframe tbody tr th {\n",
       "        vertical-align: top;\n",
       "    }\n",
       "\n",
       "    .dataframe thead th {\n",
       "        text-align: right;\n",
       "    }\n",
       "</style>\n",
       "<table border=\"1\" class=\"dataframe\">\n",
       "  <thead>\n",
       "    <tr style=\"text-align: right;\">\n",
       "      <th></th>\n",
       "      <th>inspection_id</th>\n",
       "      <th>dba_name</th>\n",
       "      <th>aka_name</th>\n",
       "      <th>license_</th>\n",
       "      <th>facility_type</th>\n",
       "      <th>risk</th>\n",
       "      <th>address</th>\n",
       "      <th>city</th>\n",
       "      <th>state</th>\n",
       "      <th>zip</th>\n",
       "      <th>inspection_date</th>\n",
       "      <th>inspection_type</th>\n",
       "      <th>results</th>\n",
       "      <th>violations</th>\n",
       "      <th>latitude</th>\n",
       "      <th>longitude</th>\n",
       "      <th>location</th>\n",
       "    </tr>\n",
       "  </thead>\n",
       "  <tbody>\n",
       "    <tr>\n",
       "      <th>55</th>\n",
       "      <td>2615967</td>\n",
       "      <td>LAKE EFFECT BREWING COMPANY</td>\n",
       "      <td>LAKE EFFECT BREWING COMPANY</td>\n",
       "      <td>2933983</td>\n",
       "      <td>Liquor</td>\n",
       "      <td>Risk 3 (Low)</td>\n",
       "      <td>3074 N MILWAUKEE AVE</td>\n",
       "      <td>CHICAGO</td>\n",
       "      <td>IL</td>\n",
       "      <td>60618</td>\n",
       "      <td>2025-04-17T00:00:00.000</td>\n",
       "      <td>License</td>\n",
       "      <td>Pass</td>\n",
       "      <td>NaN</td>\n",
       "      <td>41.936917</td>\n",
       "      <td>-87.72051</td>\n",
       "      <td>\\n,  \\n(41.93691659006879, -87.72050967194036)</td>\n",
       "    </tr>\n",
       "  </tbody>\n",
       "</table>\n",
       "</div>"
      ],
      "text/plain": [
       "    inspection_id                     dba_name                     aka_name  \\\n",
       "55        2615967  LAKE EFFECT BREWING COMPANY  LAKE EFFECT BREWING COMPANY   \n",
       "\n",
       "    license_ facility_type          risk               address     city state  \\\n",
       "55   2933983        Liquor  Risk 3 (Low)  3074 N MILWAUKEE AVE  CHICAGO    IL   \n",
       "\n",
       "      zip          inspection_date inspection_type results violations  \\\n",
       "55  60618  2025-04-17T00:00:00.000         License    Pass        NaN   \n",
       "\n",
       "     latitude  longitude                                        location  \n",
       "55  41.936917  -87.72051  \\n,  \\n(41.93691659006879, -87.72050967194036)  "
      ]
     },
     "execution_count": 27,
     "metadata": {},
     "output_type": "execute_result"
    }
   ],
   "source": [
    "data.sample(1)\n"
   ]
  },
  {
   "cell_type": "code",
   "execution_count": 28,
   "metadata": {},
   "outputs": [
    {
     "name": "stdout",
     "output_type": "stream",
     "text": [
      "<class 'pandas.core.frame.DataFrame'>\n",
      "RangeIndex: 1000 entries, 0 to 999\n",
      "Data columns (total 17 columns):\n",
      " #   Column           Non-Null Count  Dtype  \n",
      "---  ------           --------------  -----  \n",
      " 0   inspection_id    1000 non-null   int64  \n",
      " 1   dba_name         1000 non-null   object \n",
      " 2   aka_name         996 non-null    object \n",
      " 3   license_         1000 non-null   int64  \n",
      " 4   facility_type    981 non-null    object \n",
      " 5   risk             1000 non-null   object \n",
      " 6   address          1000 non-null   object \n",
      " 7   city             1000 non-null   object \n",
      " 8   state            1000 non-null   object \n",
      " 9   zip              1000 non-null   int64  \n",
      " 10  inspection_date  1000 non-null   object \n",
      " 11  inspection_type  1000 non-null   object \n",
      " 12  results          1000 non-null   object \n",
      " 13  violations       690 non-null    object \n",
      " 14  latitude         992 non-null    float64\n",
      " 15  longitude        992 non-null    float64\n",
      " 16  location         992 non-null    object \n",
      "dtypes: float64(2), int64(3), object(12)\n",
      "memory usage: 132.9+ KB\n"
     ]
    }
   ],
   "source": [
    "data.info()"
   ]
  },
  {
   "cell_type": "code",
   "execution_count": 29,
   "metadata": {},
   "outputs": [
    {
     "name": "stdout",
     "output_type": "stream",
     "text": [
      "Unique cities: ['CHICAGO' 'EVANSTON' 'BERWYN' 'CCHICAGO' 'Chicago']\n",
      "Unique states: ['IL']\n"
     ]
    }
   ],
   "source": [
    "# fix city names\n",
    "print(\"Unique cities:\", data['city'].unique())\n",
    "print(\"Unique states:\", data['state'].unique())"
   ]
  },
  {
   "cell_type": "code",
   "execution_count": 30,
   "metadata": {},
   "outputs": [
    {
     "name": "stdout",
     "output_type": "stream",
     "text": [
      "Unique types: ['Grocery Store' 'Restaurant' \"Children's Services Facility\" 'School'\n",
      " 'AFTER SCHOOL PROGRAM' 'Shared Kitchen' 'Mobile Food Preparer' 'Liquor'\n",
      " 'Catering' 'Daycare Above and Under 2 Years' 'HERBALIFE' 'Bakery' nan\n",
      " 'Shared Kitchen User (Long Term)' 'Mobile Prepared Food Vendor'\n",
      " 'Daycare (2 - 6 Years)' 'Long Term Care' 'Mobile Frozen Desserts Vendor'\n",
      " 'DINING HALL' 'Hospital' 'Wholesale' 'MOVIE THEATER' 'Golden Diner'\n",
      " 'CHURCH KITCHEN' 'REGULATED BUSINESS' 'SUPPORTIVE LIVING']\n"
     ]
    }
   ],
   "source": [
    "print(\"Unique types:\", data['facility_type'].unique())\n"
   ]
  },
  {
   "cell_type": "code",
   "execution_count": null,
   "metadata": {},
   "outputs": [],
   "source": [
    "# function for facility types\n",
    "# create a mapping for facility types\n",
    "facility_mapping = {\n",
    "    'AFTER SCHOOL PROGRAM': 'Child or Student Facilities',\n",
    "    'School': 'Child or Student Facilities',\n",
    "    \"Children's Services Facility\": 'Child or Student Facilities',\n",
    "    'Daycare Above and Under 2 Years': 'Child or Student Facilities',\n",
    "    'Daycare (2 - 6 Years)': 'Child or Student Facilities',\n",
    "    'DINING HALL': 'Child or Student Facilities',\n",
    "    'Mobile Food Preparer': 'Mobile',\n",
    "    'Mobile Prepared Food Vendor': 'Mobile',\n",
    "    'Mobile Frozen Desserts Vendor': 'Mobile',\n",
    "    'Long Term Care': 'Elders Facilities',\n",
    "    'SUPPORTIVE LIVING': 'Elders Facilities',\n",
    "    'HERBALIFE': 'Supplemental Food',\n",
    "    'Restaurant': 'Food Service',\n",
    "    'Catering': 'Food Service',\n",
    "    'Shared Kitchen': 'Food Service',\n",
    "    'Shared Kitchen User (Long Term)': 'Food Service',\n",
    "    'Bakery': 'Food Service',\n",
    "    'Golden Diner': 'Food Service',\n",
    "    'CHURCH KITCHEN': 'Food Service',\n",
    "    'Grocery Store': 'Retail',\n",
    "    'Liquor': 'Retail',\n",
    "    'Wholesale': 'Retail',\n",
    "    'Hospital': 'Institutional Businesses',\n",
    "    'Movie Theater': 'Institutional Businesses',\n",
    "    'REGULATED BUSINESS': 'Institutional Businesses'\n",
    "}"
   ]
  },
  {
   "cell_type": "code",
   "execution_count": null,
   "metadata": {},
   "outputs": [],
   "source": [
    "# function to clean\n",
    "\n",
    "def clean(df):\n",
    "    df['inspection_date'] = pd.to_datetime(df['inspection_date']).dt.strftime('%Y-%m-%d')\n",
    "\n",
    "    # fix city\n",
    "    df['city'] = df['city'].str.replace('CCHICAGO', 'CHICAGO')\n",
    "    df['city'] = df['city'].str.replace('Chicago', 'CHICAGO')\n",
    "\n",
    "\n",
    "    df['facility_type'] = df['facility_type'].map(facility_mapping).fillna(df['facility_type'])\n",
    "\n",
    "    df = df.drop(columns=['aka_name', 'license_', 'city', 'state', 'violations', 'location'])\n",
    "    df = df[df['results'] != 'No Entry']\n",
    "    df = df.dropna()\n",
    "    return df\n"
   ]
  },
  {
   "cell_type": "code",
   "execution_count": 32,
   "metadata": {},
   "outputs": [],
   "source": [
    "# test\n",
    "data = clean(data)\n"
   ]
  },
  {
   "cell_type": "code",
   "execution_count": 37,
   "metadata": {},
   "outputs": [
    {
     "name": "stdout",
     "output_type": "stream",
     "text": [
      "<class 'pandas.core.frame.DataFrame'>\n",
      "Index: 919 entries, 0 to 999\n",
      "Data columns (total 11 columns):\n",
      " #   Column           Non-Null Count  Dtype  \n",
      "---  ------           --------------  -----  \n",
      " 0   inspection_id    919 non-null    int64  \n",
      " 1   dba_name         919 non-null    object \n",
      " 2   facility_type    919 non-null    object \n",
      " 3   risk             919 non-null    object \n",
      " 4   address          919 non-null    object \n",
      " 5   zip              919 non-null    int64  \n",
      " 6   inspection_date  919 non-null    object \n",
      " 7   inspection_type  919 non-null    object \n",
      " 8   results          919 non-null    object \n",
      " 9   latitude         919 non-null    float64\n",
      " 10  longitude        919 non-null    float64\n",
      "dtypes: float64(2), int64(2), object(7)\n",
      "memory usage: 86.2+ KB\n"
     ]
    }
   ],
   "source": [
    "data.info()"
   ]
  },
  {
   "cell_type": "code",
   "execution_count": 38,
   "metadata": {},
   "outputs": [
    {
     "data": {
      "text/html": [
       "<div>\n",
       "<style scoped>\n",
       "    .dataframe tbody tr th:only-of-type {\n",
       "        vertical-align: middle;\n",
       "    }\n",
       "\n",
       "    .dataframe tbody tr th {\n",
       "        vertical-align: top;\n",
       "    }\n",
       "\n",
       "    .dataframe thead th {\n",
       "        text-align: right;\n",
       "    }\n",
       "</style>\n",
       "<table border=\"1\" class=\"dataframe\">\n",
       "  <thead>\n",
       "    <tr style=\"text-align: right;\">\n",
       "      <th></th>\n",
       "      <th>inspection_id</th>\n",
       "      <th>dba_name</th>\n",
       "      <th>facility_type</th>\n",
       "      <th>risk</th>\n",
       "      <th>address</th>\n",
       "      <th>zip</th>\n",
       "      <th>inspection_date</th>\n",
       "      <th>inspection_type</th>\n",
       "      <th>results</th>\n",
       "      <th>latitude</th>\n",
       "      <th>longitude</th>\n",
       "    </tr>\n",
       "  </thead>\n",
       "  <tbody>\n",
       "    <tr>\n",
       "      <th>204</th>\n",
       "      <td>2615618</td>\n",
       "      <td>CHI TOWN GROUP LLC</td>\n",
       "      <td>Retail</td>\n",
       "      <td>Risk 3 (Low)</td>\n",
       "      <td>5002 N PULASKI RD</td>\n",
       "      <td>60630</td>\n",
       "      <td>2025-04-11</td>\n",
       "      <td>License</td>\n",
       "      <td>Pass</td>\n",
       "      <td>41.972031</td>\n",
       "      <td>-87.728282</td>\n",
       "    </tr>\n",
       "    <tr>\n",
       "      <th>935</th>\n",
       "      <td>2614555</td>\n",
       "      <td>BELLAS FUENTEZ</td>\n",
       "      <td>Food Service</td>\n",
       "      <td>Risk 1 (High)</td>\n",
       "      <td>1725 W 47TH ST</td>\n",
       "      <td>60609</td>\n",
       "      <td>2025-03-26</td>\n",
       "      <td>Complaint</td>\n",
       "      <td>Pass</td>\n",
       "      <td>41.808460</td>\n",
       "      <td>-87.668548</td>\n",
       "    </tr>\n",
       "    <tr>\n",
       "      <th>228</th>\n",
       "      <td>2615643</td>\n",
       "      <td>RAZA WEST GYRO</td>\n",
       "      <td>Food Service</td>\n",
       "      <td>Risk 1 (High)</td>\n",
       "      <td>754 S WESTERN AVE</td>\n",
       "      <td>60612</td>\n",
       "      <td>2025-04-11</td>\n",
       "      <td>Canvass</td>\n",
       "      <td>Pass</td>\n",
       "      <td>41.871363</td>\n",
       "      <td>-87.686317</td>\n",
       "    </tr>\n",
       "    <tr>\n",
       "      <th>455</th>\n",
       "      <td>2615257</td>\n",
       "      <td>TACO BELL #2513</td>\n",
       "      <td>Food Service</td>\n",
       "      <td>Risk 1 (High)</td>\n",
       "      <td>6944 W ARCHER AVE</td>\n",
       "      <td>60638</td>\n",
       "      <td>2025-04-07</td>\n",
       "      <td>Canvass</td>\n",
       "      <td>Fail</td>\n",
       "      <td>41.792186</td>\n",
       "      <td>-87.795808</td>\n",
       "    </tr>\n",
       "    <tr>\n",
       "      <th>539</th>\n",
       "      <td>2615095</td>\n",
       "      <td>BARRACO'S PIZZA</td>\n",
       "      <td>Food Service</td>\n",
       "      <td>Risk 1 (High)</td>\n",
       "      <td>3043-3047 W 111TH ST</td>\n",
       "      <td>60655</td>\n",
       "      <td>2025-04-03</td>\n",
       "      <td>Canvass</td>\n",
       "      <td>Pass</td>\n",
       "      <td>41.691495</td>\n",
       "      <td>-87.697780</td>\n",
       "    </tr>\n",
       "  </tbody>\n",
       "</table>\n",
       "</div>"
      ],
      "text/plain": [
       "     inspection_id            dba_name facility_type           risk  \\\n",
       "204        2615618  CHI TOWN GROUP LLC        Retail   Risk 3 (Low)   \n",
       "935        2614555      BELLAS FUENTEZ  Food Service  Risk 1 (High)   \n",
       "228        2615643      RAZA WEST GYRO  Food Service  Risk 1 (High)   \n",
       "455        2615257     TACO BELL #2513  Food Service  Risk 1 (High)   \n",
       "539        2615095     BARRACO'S PIZZA  Food Service  Risk 1 (High)   \n",
       "\n",
       "                  address    zip inspection_date inspection_type results  \\\n",
       "204     5002 N PULASKI RD  60630      2025-04-11         License    Pass   \n",
       "935        1725 W 47TH ST  60609      2025-03-26       Complaint    Pass   \n",
       "228     754 S WESTERN AVE  60612      2025-04-11         Canvass    Pass   \n",
       "455     6944 W ARCHER AVE  60638      2025-04-07         Canvass    Fail   \n",
       "539  3043-3047 W 111TH ST  60655      2025-04-03         Canvass    Pass   \n",
       "\n",
       "      latitude  longitude  \n",
       "204  41.972031 -87.728282  \n",
       "935  41.808460 -87.668548  \n",
       "228  41.871363 -87.686317  \n",
       "455  41.792186 -87.795808  \n",
       "539  41.691495 -87.697780  "
      ]
     },
     "execution_count": 38,
     "metadata": {},
     "output_type": "execute_result"
    }
   ],
   "source": [
    "data.sample(5)"
   ]
  }
 ],
 "metadata": {
  "kernelspec": {
   "display_name": "spring2025_VENV",
   "language": "python",
   "name": "python3"
  },
  "language_info": {
   "codemirror_mode": {
    "name": "ipython",
    "version": 3
   },
   "file_extension": ".py",
   "mimetype": "text/x-python",
   "name": "python",
   "nbconvert_exporter": "python",
   "pygments_lexer": "ipython3",
   "version": "3.12.2"
  }
 },
 "nbformat": 4,
 "nbformat_minor": 2
}
