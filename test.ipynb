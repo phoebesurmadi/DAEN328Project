{
 "cells": [
  {
   "cell_type": "code",
   "execution_count": 1,
   "metadata": {},
   "outputs": [
    {
     "name": "stdout",
     "output_type": "stream",
     "text": [
      "Total rows fetched: 1000\n"
     ]
    }
   ],
   "source": [
    "import requests\n",
    "import pandas as pd\n",
    "import time\n",
    "\n",
    "# Initialize an empty DataFrame to store the data\n",
    "data = pd.DataFrame()\n",
    "\n",
    "# Loop to fetch 100000 rows of data in increments of 1000\n",
    "for offset in range(0, 1000, 1000):\n",
    "    url = f\"https://data.cityofchicago.org/resource/4ijn-s7e5.csv?$limit=1000&$offset={offset}\"\n",
    "    success = False\n",
    "    retries = 3\n",
    "    \n",
    "    while not success and retries > 0:\n",
    "        try:\n",
    "            response = requests.get(url)\n",
    "            response.raise_for_status()  # Check if the request was successful\n",
    "            temp_data = pd.read_csv(url)\n",
    "            data = pd.concat([data, temp_data], ignore_index=True)\n",
    "            success = True\n",
    "        except requests.exceptions.RequestException as e:\n",
    "            print(f\"Error fetching data at offset {offset}: {e}\")\n",
    "            retries -= 1\n",
    "            time.sleep(5)  # Wait for 5 seconds before retrying\n",
    "    \n",
    "    if not success:\n",
    "        print(f\"Failed to fetch data at offset {offset} after 3 retries.\")\n",
    "\n",
    "# Print the number of rows fetched\n",
    "print(f\"Total rows fetched: {len(data)}\")\n",
    "\n"
   ]
  },
  {
   "cell_type": "code",
   "execution_count": 2,
   "metadata": {},
   "outputs": [
    {
     "data": {
      "text/html": [
       "<div>\n",
       "<style scoped>\n",
       "    .dataframe tbody tr th:only-of-type {\n",
       "        vertical-align: middle;\n",
       "    }\n",
       "\n",
       "    .dataframe tbody tr th {\n",
       "        vertical-align: top;\n",
       "    }\n",
       "\n",
       "    .dataframe thead th {\n",
       "        text-align: right;\n",
       "    }\n",
       "</style>\n",
       "<table border=\"1\" class=\"dataframe\">\n",
       "  <thead>\n",
       "    <tr style=\"text-align: right;\">\n",
       "      <th></th>\n",
       "      <th>inspection_id</th>\n",
       "      <th>dba_name</th>\n",
       "      <th>aka_name</th>\n",
       "      <th>license_</th>\n",
       "      <th>facility_type</th>\n",
       "      <th>risk</th>\n",
       "      <th>address</th>\n",
       "      <th>city</th>\n",
       "      <th>state</th>\n",
       "      <th>zip</th>\n",
       "      <th>inspection_date</th>\n",
       "      <th>inspection_type</th>\n",
       "      <th>results</th>\n",
       "      <th>violations</th>\n",
       "      <th>latitude</th>\n",
       "      <th>longitude</th>\n",
       "      <th>location</th>\n",
       "    </tr>\n",
       "  </thead>\n",
       "  <tbody>\n",
       "    <tr>\n",
       "      <th>228</th>\n",
       "      <td>2615892</td>\n",
       "      <td>GOMEZ TACOS REST</td>\n",
       "      <td>GOMEZ TACOS REST</td>\n",
       "      <td>17434</td>\n",
       "      <td>Restaurant</td>\n",
       "      <td>Risk 1 (High)</td>\n",
       "      <td>3016 E 91ST ST</td>\n",
       "      <td>CHICAGO</td>\n",
       "      <td>IL</td>\n",
       "      <td>60617.0</td>\n",
       "      <td>2025-04-16T00:00:00.000</td>\n",
       "      <td>Canvass</td>\n",
       "      <td>Pass w/ Conditions</td>\n",
       "      <td>16. FOOD-CONTACT SURFACES: CLEANED &amp; SANITIZED...</td>\n",
       "      <td>41.730197</td>\n",
       "      <td>-87.550474</td>\n",
       "      <td>\\n,  \\n(41.73019682889687, -87.55047439684799)</td>\n",
       "    </tr>\n",
       "  </tbody>\n",
       "</table>\n",
       "</div>"
      ],
      "text/plain": [
       "     inspection_id          dba_name          aka_name  license_  \\\n",
       "228        2615892  GOMEZ TACOS REST  GOMEZ TACOS REST     17434   \n",
       "\n",
       "    facility_type           risk         address     city state      zip  \\\n",
       "228    Restaurant  Risk 1 (High)  3016 E 91ST ST  CHICAGO    IL  60617.0   \n",
       "\n",
       "             inspection_date inspection_type             results  \\\n",
       "228  2025-04-16T00:00:00.000         Canvass  Pass w/ Conditions   \n",
       "\n",
       "                                            violations   latitude  longitude  \\\n",
       "228  16. FOOD-CONTACT SURFACES: CLEANED & SANITIZED...  41.730197 -87.550474   \n",
       "\n",
       "                                           location  \n",
       "228  \\n,  \\n(41.73019682889687, -87.55047439684799)  "
      ]
     },
     "execution_count": 2,
     "metadata": {},
     "output_type": "execute_result"
    }
   ],
   "source": [
    "data.sample(1)\n"
   ]
  },
  {
   "cell_type": "code",
   "execution_count": 3,
   "metadata": {},
   "outputs": [
    {
     "name": "stdout",
     "output_type": "stream",
     "text": [
      "<class 'pandas.core.frame.DataFrame'>\n",
      "RangeIndex: 1000 entries, 0 to 999\n",
      "Data columns (total 17 columns):\n",
      " #   Column           Non-Null Count  Dtype  \n",
      "---  ------           --------------  -----  \n",
      " 0   inspection_id    1000 non-null   int64  \n",
      " 1   dba_name         1000 non-null   object \n",
      " 2   aka_name         995 non-null    object \n",
      " 3   license_         1000 non-null   int64  \n",
      " 4   facility_type    980 non-null    object \n",
      " 5   risk             999 non-null    object \n",
      " 6   address          1000 non-null   object \n",
      " 7   city             999 non-null    object \n",
      " 8   state            1000 non-null   object \n",
      " 9   zip              999 non-null    float64\n",
      " 10  inspection_date  1000 non-null   object \n",
      " 11  inspection_type  1000 non-null   object \n",
      " 12  results          1000 non-null   object \n",
      " 13  violations       676 non-null    object \n",
      " 14  latitude         994 non-null    float64\n",
      " 15  longitude        994 non-null    float64\n",
      " 16  location         994 non-null    object \n",
      "dtypes: float64(3), int64(2), object(12)\n",
      "memory usage: 132.9+ KB\n"
     ]
    }
   ],
   "source": [
    "data.info()"
   ]
  },
  {
   "cell_type": "code",
   "execution_count": 4,
   "metadata": {},
   "outputs": [
    {
     "name": "stdout",
     "output_type": "stream",
     "text": [
      "nan\n",
      "55. PHYSICAL FACILITIES INSTALLED, MAINTAINED & CLEAN - Comments: 6-501.11 OBSERVED STAINED CEILING TILES IN REAR DISH/ DINING AREA OF FACILITY. INSTRUCTED MANAGER TO REPLACE STAINED CEILING TILES.\n",
      "1. PERSON IN CHARGE PRESENT, DEMONSTRATES KNOWLEDGE, AND PERFORMS DUTIES - Comments: OBSERVED PIC WITHOUT A VALID CITY OF CHICAGO SANITATION CERTIFICATE AS REQUIRED. | 2. CITY OF CHICAGO FOOD SERVICE SANITATION CERTIFICATE - Comments: OBSERVED NO VALID CITY OF CHICAGO CERTIFIED FOODSERVICE MANAGER ON DUTY AT THIS TIME WHILE TCS FOODS SUCH AS CHICKEN BEING PREPARED, HANDLED AND SERVED. INSTRUCED MANAGER TO PROVIDE AND MAINTAIN AT ALL TIMES. PRIORITY FOUNDATION CITATION ISSUED #7-38-012. | 33. PROPER COOLING METHODS USED; ADEQUATE EQUIPMENT FOR TEMPERATURE CONTROL - Comments: OBSERVED THE PREP COOLER BEHIND THE SERVICE COUNTER WITH AN IMPROPER INTERIOR AMBIENT TEMP OF 56.6F SAID COOLER HOLDS CONDIMENTS. COOLER TAGGED / HELD FOR INSPECTION PRIORITY CITATION ISSUED #7-38-005. | 51. PLUMBING INSTALLED; PROPER BACKFLOW DEVICES - Comments: OBSERVED THE HAND SINK IN THE FRONT PREP AREA WITH A SLOW DRAIN. MUST REPAIR AND MAINTAIN. | 55. PHYSICAL FACILITIES INSTALLED, MAINTAINED & CLEAN - Comments: FLOORS INSIDE THE WALK IN COOLERS AND FREZZERS NEED TO BE CLEAN TO REMOVE DEBRIS.\n"
     ]
    }
   ],
   "source": [
    "print(data['violations'].iloc[0])\n",
    "print(data['violations'].iloc[20])\n",
    "\n",
    "print(data['violations'].iloc[123])"
   ]
  },
  {
   "cell_type": "code",
   "execution_count": null,
   "metadata": {},
   "outputs": [],
   "source": [
    "import pandas as pd\n",
    "import re\n",
    "\n",
    "# function to clean\n",
    "\n",
    "def extract_violation_numbers(violations):\n",
    "    if pd.isna(violations) or violations == \"nan\":\n",
    "        return []\n",
    "    return [str(int(num)) for num in re.findall(r'\\b\\d+\\b', violations)] \n",
    "\n",
    "# violations\n",
    "data['violations'] = data['violations'].apply(lambda x: ' '.join(extract_violation_numbers(str(x))))\n"
   ]
  },
  {
   "cell_type": "code",
   "execution_count": 6,
   "metadata": {},
   "outputs": [
    {
     "name": "stdout",
     "output_type": "stream",
     "text": [
      "\n",
      "55\n",
      "39 6 55\n",
      "2 7 38 12 8 9 2023 10 7 38 30 16 7 38 25 48 7 38 25 51\n"
     ]
    }
   ],
   "source": [
    "print(data['violations'].iloc[0])\n",
    "\n",
    "print(data['violations'].iloc[2])\n",
    "\n",
    "print(data['violations'].iloc[324])\n",
    "\n",
    "print(data['violations'].iloc[4])\n"
   ]
  },
  {
   "cell_type": "code",
   "execution_count": null,
   "metadata": {},
   "outputs": [],
   "source": [
    "# function to clean\n",
    "\n",
    "def extract_violation_numbers(violations):\n",
    "    if pd.isna(violations) or violations == \"nan\":\n",
    "        return []\n",
    "    return [str(int(num)) for num in re.findall(r'\\b\\d+\\b', violations)] \n",
    "\n",
    "\n",
    "\n",
    "def clean(df):\n",
    "    df['inspection_date'] = pd.to_datetime(df['inspection_date']).dt.strftime('%Y-%m-%d')\n",
    "\n",
    "    # fix city\n",
    "    df['city'] = df['city'].str.replace(r'(?i)chicago', 'CHICAGO', regex=True)\n",
    "\n",
    "    # fix facility type\n",
    "    df['facility_type'] = df['facility_type'].str.replace(r'(?i)(.*years.*|.*school.*|.*daycare.*|.*youth.*|.*shcool.*|.*charter.*|.*child.*|.*children.*|.*student.*)', 'Child or Student Facilities', regex=True)\n",
    "    df['facility_type'] = df['facility_type'].str.replace(r'(?i)(.*store.*|.*pharmacy.*|.*shop.*|.*grocery.*|.*liquor.*|.*wholesale.*|.*mart.*|.*retail.*|.*service.*|.*gas.*)', 'Retail', regex=True)\n",
    "    df['facility_type'] = df['facility_type'].str.replace(r'(?i)(.*restaurant.*|.*catering.*|.*diner.*|.*shared.*|.*kitchen.*|.*pantry.*|.*bakery.*|.*tavern.*|.*coffee.*|.*ice.*|.*deli.*|.*sushi.*|.*tea.*|.*bakery.*|.*bar.*|.*hookah.*)', 'Food Service', regex=True)\n",
    "    df['facility_type'] = df['facility_type'].str.replace(r'(?i)(.*mobile.*)', 'Mobile', regex=True)\n",
    "    df['facility_type'] = df['facility_type'].str.replace(r'(?i)(.*event.*|.*venue.*|.*banquet.*|.*church.*)', 'Event or Venue', regex=True)\n",
    "    df['facility_type'] = df['facility_type'].str.replace(r'(?i)(.*nursing.*|.*elder.*|.*assisted.*|.*senior.*|.*care.*)', 'Elderly Living', regex=True)\n",
    "    df['facility_type'] = df['facility_type'].where(\n",
    "        df['facility_type'].isin(['Child or Student Facilities', 'Retail', 'Food Service', 'Mobile', 'Event or Venue', 'Elderly Living']),\n",
    "        'Other'\n",
    "    )\n",
    "\n",
    "    # violations\n",
    "    data['violations'] = data['violations'].apply(lambda x: ' '.join(extract_violation_numbers(str(x))))\n",
    "\n",
    "\n",
    "    df = df.drop(columns=['dba_name', 'license_', 'city', 'state', 'location'])\n",
    "    df = df[df['results'] != 'No Entry']\n",
    "    df = df.dropna()\n",
    "    return df\n"
   ]
  },
  {
   "cell_type": "code",
   "execution_count": 8,
   "metadata": {},
   "outputs": [],
   "source": [
    "# test\n",
    "data = clean(data)\n"
   ]
  },
  {
   "cell_type": "code",
   "execution_count": 9,
   "metadata": {},
   "outputs": [
    {
     "name": "stdout",
     "output_type": "stream",
     "text": [
      "<class 'pandas.core.frame.DataFrame'>\n",
      "Index: 932 entries, 0 to 999\n",
      "Data columns (total 12 columns):\n",
      " #   Column           Non-Null Count  Dtype  \n",
      "---  ------           --------------  -----  \n",
      " 0   inspection_id    932 non-null    int64  \n",
      " 1   aka_name         932 non-null    object \n",
      " 2   facility_type    932 non-null    object \n",
      " 3   risk             932 non-null    object \n",
      " 4   address          932 non-null    object \n",
      " 5   zip              932 non-null    float64\n",
      " 6   inspection_date  932 non-null    object \n",
      " 7   inspection_type  932 non-null    object \n",
      " 8   results          932 non-null    object \n",
      " 9   violations       932 non-null    object \n",
      " 10  latitude         932 non-null    float64\n",
      " 11  longitude        932 non-null    float64\n",
      "dtypes: float64(3), int64(1), object(8)\n",
      "memory usage: 94.7+ KB\n"
     ]
    }
   ],
   "source": [
    "data.info()"
   ]
  },
  {
   "cell_type": "code",
   "execution_count": 10,
   "metadata": {},
   "outputs": [
    {
     "name": "stdout",
     "output_type": "stream",
     "text": [
      "Unique types: ['Food Service' 'Mobile' 'Child or Student Facilities' 'Retail' 'Other'\n",
      " 'Elderly Living']\n"
     ]
    }
   ],
   "source": [
    "print(\"Unique types:\", data['facility_type'].unique())"
   ]
  },
  {
   "cell_type": "code",
   "execution_count": 11,
   "metadata": {},
   "outputs": [
    {
     "data": {
      "text/html": [
       "<div>\n",
       "<style scoped>\n",
       "    .dataframe tbody tr th:only-of-type {\n",
       "        vertical-align: middle;\n",
       "    }\n",
       "\n",
       "    .dataframe tbody tr th {\n",
       "        vertical-align: top;\n",
       "    }\n",
       "\n",
       "    .dataframe thead th {\n",
       "        text-align: right;\n",
       "    }\n",
       "</style>\n",
       "<table border=\"1\" class=\"dataframe\">\n",
       "  <thead>\n",
       "    <tr style=\"text-align: right;\">\n",
       "      <th></th>\n",
       "      <th>inspection_id</th>\n",
       "      <th>aka_name</th>\n",
       "      <th>facility_type</th>\n",
       "      <th>risk</th>\n",
       "      <th>address</th>\n",
       "      <th>zip</th>\n",
       "      <th>inspection_date</th>\n",
       "      <th>inspection_type</th>\n",
       "      <th>results</th>\n",
       "      <th>violations</th>\n",
       "      <th>latitude</th>\n",
       "      <th>longitude</th>\n",
       "    </tr>\n",
       "  </thead>\n",
       "  <tbody>\n",
       "    <tr>\n",
       "      <th>163</th>\n",
       "      <td>2615964</td>\n",
       "      <td>THE CHICAGO RIB HOUSE</td>\n",
       "      <td>Food Service</td>\n",
       "      <td>Risk 1 (High)</td>\n",
       "      <td>3851 S MICHIGAN AVE</td>\n",
       "      <td>60653.0</td>\n",
       "      <td>2025-04-17</td>\n",
       "      <td>Short Form Complaint</td>\n",
       "      <td>Pass</td>\n",
       "      <td>38 51 55</td>\n",
       "      <td>41.824043</td>\n",
       "      <td>-87.622947</td>\n",
       "    </tr>\n",
       "    <tr>\n",
       "      <th>528</th>\n",
       "      <td>2615341</td>\n",
       "      <td>MiMi's Tacos And French Fries</td>\n",
       "      <td>Food Service</td>\n",
       "      <td>Risk 1 (High)</td>\n",
       "      <td>1352 W TAYLOR ST</td>\n",
       "      <td>60607.0</td>\n",
       "      <td>2025-04-08</td>\n",
       "      <td>Canvass Re-Inspection</td>\n",
       "      <td>Pass</td>\n",
       "      <td></td>\n",
       "      <td>41.869454</td>\n",
       "      <td>-87.661338</td>\n",
       "    </tr>\n",
       "    <tr>\n",
       "      <th>197</th>\n",
       "      <td>2615801</td>\n",
       "      <td>Vanderpoel Magnet</td>\n",
       "      <td>Child or Student Facilities</td>\n",
       "      <td>Risk 1 (High)</td>\n",
       "      <td>9510 S Prospect (1700W)</td>\n",
       "      <td>60643.0</td>\n",
       "      <td>2025-04-16</td>\n",
       "      <td>Canvass Re-Inspection</td>\n",
       "      <td>Pass</td>\n",
       "      <td></td>\n",
       "      <td>41.720782</td>\n",
       "      <td>-87.665585</td>\n",
       "    </tr>\n",
       "    <tr>\n",
       "      <th>31</th>\n",
       "      <td>2616165</td>\n",
       "      <td>DIPPIN' DOTS ICE CREAM</td>\n",
       "      <td>Mobile</td>\n",
       "      <td>Risk 2 (Medium)</td>\n",
       "      <td>324 N Leavitt ST</td>\n",
       "      <td>60612.0</td>\n",
       "      <td>2025-04-22</td>\n",
       "      <td>License</td>\n",
       "      <td>Pass</td>\n",
       "      <td></td>\n",
       "      <td>41.887434</td>\n",
       "      <td>-87.681849</td>\n",
       "    </tr>\n",
       "    <tr>\n",
       "      <th>706</th>\n",
       "      <td>2615058</td>\n",
       "      <td>WEI DAO CHENG DOU</td>\n",
       "      <td>Food Service</td>\n",
       "      <td>Risk 1 (High)</td>\n",
       "      <td>2105 S JEFFERSON ST</td>\n",
       "      <td>60616.0</td>\n",
       "      <td>2025-04-03</td>\n",
       "      <td>License Re-Inspection</td>\n",
       "      <td>Pass</td>\n",
       "      <td>10 6 301 14 36 4 204 112 39 3 307 11 48 4 301 ...</td>\n",
       "      <td>41.854071</td>\n",
       "      <td>-87.641600</td>\n",
       "    </tr>\n",
       "  </tbody>\n",
       "</table>\n",
       "</div>"
      ],
      "text/plain": [
       "     inspection_id                       aka_name  \\\n",
       "163        2615964          THE CHICAGO RIB HOUSE   \n",
       "528        2615341  MiMi's Tacos And French Fries   \n",
       "197        2615801              Vanderpoel Magnet   \n",
       "31         2616165         DIPPIN' DOTS ICE CREAM   \n",
       "706        2615058              WEI DAO CHENG DOU   \n",
       "\n",
       "                   facility_type             risk                  address  \\\n",
       "163                 Food Service    Risk 1 (High)      3851 S MICHIGAN AVE   \n",
       "528                 Food Service    Risk 1 (High)         1352 W TAYLOR ST   \n",
       "197  Child or Student Facilities    Risk 1 (High)  9510 S Prospect (1700W)   \n",
       "31                        Mobile  Risk 2 (Medium)         324 N Leavitt ST   \n",
       "706                 Food Service    Risk 1 (High)      2105 S JEFFERSON ST   \n",
       "\n",
       "         zip inspection_date        inspection_type results  \\\n",
       "163  60653.0      2025-04-17   Short Form Complaint    Pass   \n",
       "528  60607.0      2025-04-08  Canvass Re-Inspection    Pass   \n",
       "197  60643.0      2025-04-16  Canvass Re-Inspection    Pass   \n",
       "31   60612.0      2025-04-22                License    Pass   \n",
       "706  60616.0      2025-04-03  License Re-Inspection    Pass   \n",
       "\n",
       "                                            violations   latitude  longitude  \n",
       "163                                           38 51 55  41.824043 -87.622947  \n",
       "528                                                     41.869454 -87.661338  \n",
       "197                                                     41.720782 -87.665585  \n",
       "31                                                      41.887434 -87.681849  \n",
       "706  10 6 301 14 36 4 204 112 39 3 307 11 48 4 301 ...  41.854071 -87.641600  "
      ]
     },
     "execution_count": 11,
     "metadata": {},
     "output_type": "execute_result"
    }
   ],
   "source": [
    "data.sample(5)"
   ]
  }
 ],
 "metadata": {
  "kernelspec": {
   "display_name": "spring2025_VENV",
   "language": "python",
   "name": "python3"
  },
  "language_info": {
   "codemirror_mode": {
    "name": "ipython",
    "version": 3
   },
   "file_extension": ".py",
   "mimetype": "text/x-python",
   "name": "python",
   "nbconvert_exporter": "python",
   "pygments_lexer": "ipython3",
   "version": "3.12.2"
  }
 },
 "nbformat": 4,
 "nbformat_minor": 2
}
